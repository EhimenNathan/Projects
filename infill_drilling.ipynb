{
 "cells": [
  {
   "cell_type": "code",
   "execution_count": 1,
   "id": "2555dc6c",
   "metadata": {},
   "outputs": [],
   "source": [
    "import pandas as pd\n",
    "import numpy as np\n",
    "from CRM.infill_drilling import infill_drilling_preds"
   ]
  },
  {
   "cell_type": "code",
   "execution_count": 4,
   "id": "ebfb6931",
   "metadata": {},
   "outputs": [],
   "source": [
    "df_history = pd.read_excel('2x4x1_st.xlsx')   #production, BHP, injection for 'old' wells\n",
    "df_control = pd.read_excel('2x4x1_new.xlsx')  #BHP and injection for 'old' and new well\n",
    "df_old_coords = pd.read_excel('coords.xlsx')  #coordinates of 'old' wells\n",
    "new_coords = np.array([500., 325.])           #coordinates for new well "
   ]
  },
  {
   "cell_type": "code",
   "execution_count": 5,
   "id": "8f727030",
   "metadata": {},
   "outputs": [
    {
     "data": {
      "text/html": [
       "<div>\n",
       "<style scoped>\n",
       "    .dataframe tbody tr th:only-of-type {\n",
       "        vertical-align: middle;\n",
       "    }\n",
       "\n",
       "    .dataframe tbody tr th {\n",
       "        vertical-align: top;\n",
       "    }\n",
       "\n",
       "    .dataframe thead th {\n",
       "        text-align: right;\n",
       "    }\n",
       "</style>\n",
       "<table border=\"1\" class=\"dataframe\">\n",
       "  <thead>\n",
       "    <tr style=\"text-align: right;\">\n",
       "      <th></th>\n",
       "      <th>Date</th>\n",
       "      <th>P1</th>\n",
       "      <th>P2</th>\n",
       "      <th>P3</th>\n",
       "      <th>P4</th>\n",
       "      <th>P5</th>\n",
       "    </tr>\n",
       "  </thead>\n",
       "  <tbody>\n",
       "    <tr>\n",
       "      <th>0</th>\n",
       "      <td>2013-01-31</td>\n",
       "      <td>40.773813</td>\n",
       "      <td>136.805019</td>\n",
       "      <td>135.567249</td>\n",
       "      <td>19.966660</td>\n",
       "      <td>83.278185</td>\n",
       "    </tr>\n",
       "    <tr>\n",
       "      <th>1</th>\n",
       "      <td>2013-02-28</td>\n",
       "      <td>78.471575</td>\n",
       "      <td>116.577818</td>\n",
       "      <td>48.975012</td>\n",
       "      <td>148.928098</td>\n",
       "      <td>178.975661</td>\n",
       "    </tr>\n",
       "    <tr>\n",
       "      <th>2</th>\n",
       "      <td>2013-03-31</td>\n",
       "      <td>92.070232</td>\n",
       "      <td>107.435067</td>\n",
       "      <td>180.068637</td>\n",
       "      <td>60.670628</td>\n",
       "      <td>176.939351</td>\n",
       "    </tr>\n",
       "    <tr>\n",
       "      <th>3</th>\n",
       "      <td>2013-04-30</td>\n",
       "      <td>88.327526</td>\n",
       "      <td>88.465755</td>\n",
       "      <td>41.025726</td>\n",
       "      <td>161.319622</td>\n",
       "      <td>226.999348</td>\n",
       "    </tr>\n",
       "    <tr>\n",
       "      <th>4</th>\n",
       "      <td>2013-05-31</td>\n",
       "      <td>53.651590</td>\n",
       "      <td>99.915739</td>\n",
       "      <td>121.813988</td>\n",
       "      <td>15.832350</td>\n",
       "      <td>134.337687</td>\n",
       "    </tr>\n",
       "    <tr>\n",
       "      <th>5</th>\n",
       "      <td>2013-06-30</td>\n",
       "      <td>122.989360</td>\n",
       "      <td>75.455858</td>\n",
       "      <td>25.335908</td>\n",
       "      <td>81.059626</td>\n",
       "      <td>173.789407</td>\n",
       "    </tr>\n",
       "  </tbody>\n",
       "</table>\n",
       "</div>"
      ],
      "text/plain": [
       "        Date          P1          P2          P3          P4          P5\n",
       "0 2013-01-31   40.773813  136.805019  135.567249   19.966660   83.278185\n",
       "1 2013-02-28   78.471575  116.577818   48.975012  148.928098  178.975661\n",
       "2 2013-03-31   92.070232  107.435067  180.068637   60.670628  176.939351\n",
       "3 2013-04-30   88.327526   88.465755   41.025726  161.319622  226.999348\n",
       "4 2013-05-31   53.651590   99.915739  121.813988   15.832350  134.337687\n",
       "5 2013-06-30  122.989360   75.455858   25.335908   81.059626  173.789407"
      ]
     },
     "execution_count": 5,
     "metadata": {},
     "output_type": "execute_result"
    }
   ],
   "source": [
    "liq_preds = infill_drilling_preds(df_history, df_control, df_old_coords, new_coords)\n",
    "liq_preds"
   ]
  },
  {
   "cell_type": "code",
   "execution_count": null,
   "id": "a69030a6",
   "metadata": {},
   "outputs": [],
   "source": []
  }
 ],
 "metadata": {
  "kernelspec": {
   "display_name": "Python 3",
   "language": "python",
   "name": "python3"
  },
  "language_info": {
   "codemirror_mode": {
    "name": "ipython",
    "version": 3
   },
   "file_extension": ".py",
   "mimetype": "text/x-python",
   "name": "python",
   "nbconvert_exporter": "python",
   "pygments_lexer": "ipython3",
   "version": "3.8.8"
  }
 },
 "nbformat": 4,
 "nbformat_minor": 5
}
